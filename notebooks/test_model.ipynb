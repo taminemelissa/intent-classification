{
 "cells": [
  {
   "cell_type": "code",
   "execution_count": 1,
   "id": "c61fba27-3f94-4166-a4fe-3e2949541a81",
   "metadata": {
    "tags": []
   },
   "outputs": [],
   "source": [
    "import os\n",
    "import sys\n",
    "project_dir = os.getcwd().split('notebooks')[0]\n",
    "sys.path.append(project_dir)"
   ]
  },
  {
   "cell_type": "code",
   "execution_count": 2,
   "id": "aa1a9e7f-05a4-47fe-b889-9e39a4616660",
   "metadata": {
    "tags": []
   },
   "outputs": [],
   "source": [
    "import random\n",
    "import pytorch_lightning as pl\n",
    "from pytorch_lightning.callbacks import ModelCheckpoint\n",
    "from pytorch_lightning.loggers import TensorBoardLogger\n",
    "from torch import nn\n",
    "from src.data.data_format import UtteranceCollection\n",
    "from src.model.classifier import SequenceClassifierModel\n",
    "from src.data.data_for_training import SequenceClassifierModelDataModule\n",
    "from tqdm import tqdm\n",
    "from config import config\n",
    "from datasets import load_dataset\n",
    "from src.data.utils import convert_transformers_dataset_to_utterances\n",
    "from src.model.utils import print_array_stats\n",
    "from sklearn.metrics import accuracy_score, precision_recall_fscore_support"
   ]
  },
  {
   "cell_type": "code",
   "execution_count": 3,
   "id": "d0622bca-8487-4f3f-9137-285e4e562c7c",
   "metadata": {
    "tags": []
   },
   "outputs": [
    {
     "name": "stdout",
     "output_type": "stream",
     "text": [
      "############ Preparing data for fine_tuning ################\n"
     ]
    },
    {
     "name": "stderr",
     "output_type": "stream",
     "text": [
      "Found cached dataset silicone (/home/onyxia/.cache/huggingface/datasets/silicone/dyda_da/1.0.0/af617406c94e3f78da85f7ea74ebfbd3f297a9665cb54adbae305b03bc4442a5)\n",
      "Found cached dataset silicone (/home/onyxia/.cache/huggingface/datasets/silicone/dyda_da/1.0.0/af617406c94e3f78da85f7ea74ebfbd3f297a9665cb54adbae305b03bc4442a5)\n",
      "Found cached dataset silicone (/home/onyxia/.cache/huggingface/datasets/silicone/dyda_da/1.0.0/af617406c94e3f78da85f7ea74ebfbd3f297a9665cb54adbae305b03bc4442a5)\n"
     ]
    },
    {
     "name": "stdout",
     "output_type": "stream",
     "text": [
      "######## Converting dataset into a list of utterances ########\n"
     ]
    },
    {
     "name": "stderr",
     "output_type": "stream",
     "text": [
      "100%|██████████| 87170/87170 [00:47<00:00, 1826.82it/s]\n"
     ]
    },
    {
     "name": "stdout",
     "output_type": "stream",
     "text": [
      "################ 87170 formated #################\n",
      "Training data: 87170\n",
      "######## Converting dataset into a list of utterances ########\n"
     ]
    },
    {
     "name": "stderr",
     "output_type": "stream",
     "text": [
      "100%|██████████| 8069/8069 [00:04<00:00, 1690.73it/s]\n"
     ]
    },
    {
     "name": "stdout",
     "output_type": "stream",
     "text": [
      "################ 8069 formated #################\n",
      "Validation data: 8069\n",
      "######## Converting dataset into a list of utterances ########\n"
     ]
    },
    {
     "name": "stderr",
     "output_type": "stream",
     "text": [
      "100%|██████████| 7740/7740 [00:04<00:00, 1871.99it/s]"
     ]
    },
    {
     "name": "stdout",
     "output_type": "stream",
     "text": [
      "################ 7740 formated #################\n",
      "Test data: 7740\n"
     ]
    },
    {
     "name": "stderr",
     "output_type": "stream",
     "text": [
      "\n"
     ]
    }
   ],
   "source": [
    "print('############ Preparing data for fine_tuning ################')\n",
    "train_dataset = load_dataset('silicone', config.DATASET_NAME, split='train')\n",
    "val_dataset = load_dataset('silicone', config.DATASET_NAME, split='validation')\n",
    "test_dataset = load_dataset('silicone', config.DATASET_NAME, split='test')\n",
    "train_utterances = convert_transformers_dataset_to_utterances(train_dataset)\n",
    "train_data = UtteranceCollection(utterances=train_utterances)\n",
    "print('Training data:', len(train_data.utterances))\n",
    "val_utterances = convert_transformers_dataset_to_utterances(val_dataset)\n",
    "val_data = UtteranceCollection(utterances=val_utterances)\n",
    "print('Validation data:', len(val_data.utterances))\n",
    "test_utterances = convert_transformers_dataset_to_utterances(test_dataset)\n",
    "test_data = UtteranceCollection(utterances=test_utterances)\n",
    "print('Test data:', len(test_data.utterances))"
   ]
  },
  {
   "cell_type": "code",
   "execution_count": 4,
   "id": "1818ca49-312a-4e7e-b75e-a1c01cd1a920",
   "metadata": {
    "tags": []
   },
   "outputs": [
    {
     "name": "stdout",
     "output_type": "stream",
     "text": [
      "\n"
     ]
    },
    {
     "name": "stderr",
     "output_type": "stream",
     "text": [
      "Some weights of the model checkpoint at bert-base-uncased were not used when initializing BertModel: ['cls.predictions.decoder.weight', 'cls.predictions.transform.LayerNorm.weight', 'cls.predictions.bias', 'cls.predictions.transform.dense.bias', 'cls.predictions.transform.LayerNorm.bias', 'cls.predictions.transform.dense.weight', 'cls.seq_relationship.bias', 'cls.seq_relationship.weight']\n",
      "- This IS expected if you are initializing BertModel from the checkpoint of a model trained on another task or with another architecture (e.g. initializing a BertForSequenceClassification model from a BertForPreTraining model).\n",
      "- This IS NOT expected if you are initializing BertModel from the checkpoint of a model that you expect to be exactly identical (initializing a BertForSequenceClassification model from a BertForSequenceClassification model).\n"
     ]
    }
   ],
   "source": [
    "model = SequenceClassifierModel(config=config)"
   ]
  },
  {
   "cell_type": "code",
   "execution_count": 5,
   "id": "16272ce5-f5ff-44fa-8c91-e13604d814be",
   "metadata": {
    "tags": []
   },
   "outputs": [],
   "source": [
    "data = SequenceClassifierModelDataModule(train_data, val_data, test_data, model.tokenizer,\n",
    "                                                 batch_size=config.BATCH_SIZE)"
   ]
  },
  {
   "cell_type": "code",
   "execution_count": 6,
   "id": "8c0d9e99-cdbf-49a2-8318-b15eee8433dc",
   "metadata": {
    "tags": []
   },
   "outputs": [],
   "source": [
    "checkpoint_callback = ModelCheckpoint(dirpath=config.DIR_CHECKPOINTS,\n",
    "                                              filename=config.FILENAME,\n",
    "                                              save_top_k=1,\n",
    "                                              verbose=True,\n",
    "                                              monitor='val_loss',\n",
    "                                              mode='min')\n",
    "        \n",
    "logger = TensorBoardLogger(save_dir=config.LOGS.replace('logs', ''),\n",
    "                                   version=config.VERSION,\n",
    "                                   name='logs')"
   ]
  },
  {
   "cell_type": "code",
   "execution_count": 7,
   "id": "9143398f-4144-43d0-b4a6-0bc8c2407b59",
   "metadata": {
    "tags": []
   },
   "outputs": [
    {
     "name": "stderr",
     "output_type": "stream",
     "text": [
      "/opt/mamba/lib/python3.10/site-packages/pytorch_lightning/trainer/connectors/accelerator_connector.py:478: LightningDeprecationWarning: Setting `Trainer(gpus=[0])` is deprecated in v1.7 and will be removed in v2.0. Please use `Trainer(accelerator='gpu', devices=[0])` instead.\n",
      "  rank_zero_deprecation(\n",
      "GPU available: True (cuda), used: True\n",
      "TPU available: False, using: 0 TPU cores\n",
      "IPU available: False, using: 0 IPUs\n",
      "HPU available: False, using: 0 HPUs\n",
      "Global seed set to 42\n"
     ]
    },
    {
     "data": {
      "text/plain": [
       "42"
      ]
     },
     "execution_count": 7,
     "metadata": {},
     "output_type": "execute_result"
    }
   ],
   "source": [
    "trainer = pl.Trainer(callbacks=[checkpoint_callback],\n",
    "                             max_epochs=config.NUM_EPOCHS,\n",
    "                             gpus=[0],\n",
    "                             strategy='dp',\n",
    "                             logger=logger)\n",
    "\n",
    "# Training step\n",
    "pl.seed_everything(config.SEED)"
   ]
  },
  {
   "cell_type": "code",
   "execution_count": 8,
   "id": "4b56f4d9-c3c7-443f-afc5-0e1373fac6f9",
   "metadata": {
    "tags": []
   },
   "outputs": [
    {
     "name": "stderr",
     "output_type": "stream",
     "text": [
      "LOCAL_RANK: 0 - CUDA_VISIBLE_DEVICES: [0]\n",
      "\n",
      "  | Name       | Type             | Params\n",
      "------------------------------------------------\n",
      "0 | classifier | Linear           | 3.1 K \n",
      "1 | encoder    | BertModel        | 109 M \n",
      "2 | loss_fct   | CrossEntropyLoss | 0     \n",
      "------------------------------------------------\n",
      "109 M     Trainable params\n",
      "0         Non-trainable params\n",
      "109 M     Total params\n",
      "437.941   Total estimated model params size (MB)\n"
     ]
    },
    {
     "data": {
      "application/vnd.jupyter.widget-view+json": {
       "model_id": "",
       "version_major": 2,
       "version_minor": 0
      },
      "text/plain": [
       "Sanity Checking: 0it [00:00, ?it/s]"
      ]
     },
     "metadata": {},
     "output_type": "display_data"
    },
    {
     "data": {
      "application/vnd.jupyter.widget-view+json": {
       "model_id": "8b2a21873ce945078bad904570a0d2cd",
       "version_major": 2,
       "version_minor": 0
      },
      "text/plain": [
       "Training: 0it [00:00, ?it/s]"
      ]
     },
     "metadata": {},
     "output_type": "display_data"
    },
    {
     "name": "stderr",
     "output_type": "stream",
     "text": [
      "/opt/mamba/lib/python3.10/site-packages/pytorch_lightning/trainer/call.py:48: UserWarning: Detected KeyboardInterrupt, attempting graceful shutdown...\n",
      "  rank_zero_warn(\"Detected KeyboardInterrupt, attempting graceful shutdown...\")\n"
     ]
    }
   ],
   "source": [
    "trainer.fit(model, data)"
   ]
  }
 ],
 "metadata": {
  "kernelspec": {
   "display_name": "Python 3 (ipykernel)",
   "language": "python",
   "name": "python3"
  },
  "language_info": {
   "codemirror_mode": {
    "name": "ipython",
    "version": 3
   },
   "file_extension": ".py",
   "mimetype": "text/x-python",
   "name": "python",
   "nbconvert_exporter": "python",
   "pygments_lexer": "ipython3",
   "version": "3.10.8"
  }
 },
 "nbformat": 4,
 "nbformat_minor": 5
}
