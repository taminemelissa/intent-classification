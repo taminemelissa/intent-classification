{
 "cells": [
  {
   "cell_type": "code",
   "execution_count": 1,
   "id": "d513d313-94cd-46e9-970e-d4990c93dae8",
   "metadata": {
    "tags": []
   },
   "outputs": [],
   "source": [
    "import os\n",
    "import sys\n",
    "project_dir = os.getcwd().split('notebooks')[0]\n",
    "sys.path.append(project_dir)"
   ]
  },
  {
   "cell_type": "code",
   "execution_count": 2,
   "id": "43a0ce11-a697-4303-9e43-e1428979bb8d",
   "metadata": {
    "tags": []
   },
   "outputs": [],
   "source": [
    "from src.data.data_format import Utterance, UtteranceCollection"
   ]
  },
  {
   "cell_type": "code",
   "execution_count": 3,
   "id": "0d390698-8c15-4c0b-9a6e-2e12f4fb82c7",
   "metadata": {
    "tags": []
   },
   "outputs": [
    {
     "name": "stderr",
     "output_type": "stream",
     "text": [
      "Found cached dataset silicone (/home/onyxia/.cache/huggingface/datasets/silicone/dyda_da/1.0.0/af617406c94e3f78da85f7ea74ebfbd3f297a9665cb54adbae305b03bc4442a5)\n"
     ]
    }
   ],
   "source": [
    "import torch\n",
    "from datasets import load_dataset\n",
    "from transformers import AutoTokenizer\n",
    "dataset = load_dataset(\"silicone\", \"dyda_da\",split='train')"
   ]
  },
  {
   "cell_type": "code",
   "execution_count": 4,
   "id": "2e9567d1-0209-4464-a276-4d284607f8d5",
   "metadata": {
    "tags": []
   },
   "outputs": [],
   "source": [
    "from src.data.utils import convert_transformers_dataset_to_passages"
   ]
  },
  {
   "cell_type": "code",
   "execution_count": 5,
   "id": "db4f5500-866d-4418-8673-3af267449994",
   "metadata": {
    "tags": []
   },
   "outputs": [
    {
     "name": "stdout",
     "output_type": "stream",
     "text": [
      "######## Converting dataset into a list of utterances ########\n"
     ]
    },
    {
     "name": "stderr",
     "output_type": "stream",
     "text": [
      "100%|██████████| 87170/87170 [00:33<00:00, 2608.03it/s]"
     ]
    },
    {
     "name": "stdout",
     "output_type": "stream",
     "text": [
      "################ 87170 formated #################\n"
     ]
    },
    {
     "name": "stderr",
     "output_type": "stream",
     "text": [
      "\n"
     ]
    }
   ],
   "source": [
    "utterances = convert_transformers_dataset_to_passages(dataset)"
   ]
  }
 ],
 "metadata": {
  "kernelspec": {
   "display_name": "Python 3 (ipykernel)",
   "language": "python",
   "name": "python3"
  },
  "language_info": {
   "codemirror_mode": {
    "name": "ipython",
    "version": 3
   },
   "file_extension": ".py",
   "mimetype": "text/x-python",
   "name": "python",
   "nbconvert_exporter": "python",
   "pygments_lexer": "ipython3",
   "version": "3.10.8"
  }
 },
 "nbformat": 4,
 "nbformat_minor": 5
}
